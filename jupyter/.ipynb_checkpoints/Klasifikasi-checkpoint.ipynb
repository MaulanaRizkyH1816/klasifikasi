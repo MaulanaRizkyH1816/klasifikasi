{
 "cells": [
  {
   "cell_type": "markdown",
   "metadata": {
    "id": "Sw_5G1J5iNaR"
   },
   "source": [
    "# **SVM dengan K-Fold Cross Validation**"
   ]
  },
  {
   "cell_type": "markdown",
   "metadata": {
    "id": "FNZpfwuPidKL"
   },
   "source": [
    "## **Library Sastrawi**"
   ]
  },
  {
   "cell_type": "code",
   "execution_count": 2,
   "metadata": {
    "colab": {
     "base_uri": "https://localhost:8080/"
    },
    "executionInfo": {
     "elapsed": 5156,
     "status": "ok",
     "timestamp": 1640872661958,
     "user": {
      "displayName": "1819 Patriot Kusuma Sejati",
      "photoUrl": "https://lh3.googleusercontent.com/a-/AOh14GhcSTC58vcEo7XyxhBj_HSlXu2I9oGjs5IJOggk=s64",
      "userId": "08781203421749695851"
     },
     "user_tz": -420
    },
    "id": "9NjNFJL2isMc",
    "outputId": "e0348bfb-6041-4ca5-d11a-0220e38fe836"
   },
   "outputs": [
    {
     "name": "stdout",
     "output_type": "stream",
     "text": [
      "Requirement already satisfied: Sastrawi in /home/pythonku/.local/lib/python3.8/site-packages (1.0.1)\r\n"
     ]
    }
   ],
   "source": [
    "!pip install Sastrawi"
   ]
  },
  {
   "cell_type": "markdown",
   "metadata": {
    "id": "MP5-VLztjhk5"
   },
   "source": [
    "## **Library Preprocessing**"
   ]
  },
  {
   "cell_type": "code",
   "execution_count": 3,
   "metadata": {
    "executionInfo": {
     "elapsed": 25,
     "status": "ok",
     "timestamp": 1640872661961,
     "user": {
      "displayName": "1819 Patriot Kusuma Sejati",
      "photoUrl": "https://lh3.googleusercontent.com/a-/AOh14GhcSTC58vcEo7XyxhBj_HSlXu2I9oGjs5IJOggk=s64",
      "userId": "08781203421749695851"
     },
     "user_tz": -420
    },
    "id": "1ba-nd0rhCVj"
   },
   "outputs": [],
   "source": [
    "import string\n",
    "import re\n",
    "import numpy as np\n",
    "import pandas as pd\n",
    "from Sastrawi.Stemmer.StemmerFactory import StemmerFactory"
   ]
  },
  {
   "cell_type": "markdown",
   "metadata": {
    "id": "dRm2vqzpjt6p"
   },
   "source": [
    "## **Library feature Extraction/Classifier/Evaluation**"
   ]
  },
  {
   "cell_type": "code",
   "execution_count": 4,
   "metadata": {
    "executionInfo": {
     "elapsed": 534,
     "status": "ok",
     "timestamp": 1640872666122,
     "user": {
      "displayName": "1819 Patriot Kusuma Sejati",
      "photoUrl": "https://lh3.googleusercontent.com/a-/AOh14GhcSTC58vcEo7XyxhBj_HSlXu2I9oGjs5IJOggk=s64",
      "userId": "08781203421749695851"
     },
     "user_tz": -420
    },
    "id": "m_dfHv1Hj2ZS"
   },
   "outputs": [],
   "source": [
    "from sklearn import preprocessing, model_selection, svm\n",
    "from sklearn.feature_extraction.text import CountVectorizer, TfidfVectorizer\n",
    "from sklearn.metrics import accuracy_score, f1_score, confusion_matrix, classification_report"
   ]
  },
  {
   "cell_type": "markdown",
   "metadata": {
    "id": "uj2Bs77FkeHy"
   },
   "source": [
    "## **Libaray Visualization**"
   ]
  },
  {
   "cell_type": "code",
   "execution_count": 5,
   "metadata": {
    "executionInfo": {
     "elapsed": 572,
     "status": "ok",
     "timestamp": 1640872667046,
     "user": {
      "displayName": "1819 Patriot Kusuma Sejati",
      "photoUrl": "https://lh3.googleusercontent.com/a-/AOh14GhcSTC58vcEo7XyxhBj_HSlXu2I9oGjs5IJOggk=s64",
      "userId": "08781203421749695851"
     },
     "user_tz": -420
    },
    "id": "6MMbA2_CkjBe"
   },
   "outputs": [],
   "source": [
    "import matplotlib\n",
    "from matplotlib import pyplot as plt\n",
    "import seaborn as sns\n",
    "%matplotlib inline\n",
    "%config InlineBackend.figure_format = 'retina'"
   ]
  },
  {
   "cell_type": "code",
   "execution_count": 6,
   "metadata": {
    "colab": {
     "base_uri": "https://localhost:8080/"
    },
    "executionInfo": {
     "elapsed": 1169,
     "status": "ok",
     "timestamp": 1640872670964,
     "user": {
      "displayName": "1819 Patriot Kusuma Sejati",
      "photoUrl": "https://lh3.googleusercontent.com/a-/AOh14GhcSTC58vcEo7XyxhBj_HSlXu2I9oGjs5IJOggk=s64",
      "userId": "08781203421749695851"
     },
     "user_tz": -420
    },
    "id": "ZdYinoaH4mas",
    "outputId": "9d763ae4-5465-43e9-cba7-57031d023c43"
   },
   "outputs": [
    {
     "name": "stderr",
     "output_type": "stream",
     "text": [
      "[nltk_data] Downloading package punkt to /home/pythonku/nltk_data...\n",
      "[nltk_data]   Package punkt is already up-to-date!\n",
      "[nltk_data] Downloading package stopwords to\n",
      "[nltk_data]     /home/pythonku/nltk_data...\n",
      "[nltk_data]   Package stopwords is already up-to-date!\n"
     ]
    }
   ],
   "source": [
    "# word_tokenize & FreqDist from nltk\n",
    "import nltk\n",
    "nltk.download('punkt')\n",
    "nltk.download('stopwords')\n",
    "from nltk.tokenize import word_tokenize\n",
    "from nltk.probability import FreqDist\n",
    "\n",
    "# stopwords\n",
    "from nltk.corpus import stopwords"
   ]
  },
  {
   "cell_type": "code",
   "execution_count": 7,
   "metadata": {
    "id": "jn0h_AD9k2xe"
   },
   "outputs": [],
   "source": [
    "np.random.seed(123)"
   ]
  },
  {
   "cell_type": "markdown",
   "metadata": {
    "id": "sQAuEkMIlDNu"
   },
   "source": [
    "##**Baca Dataset**"
   ]
  },
  {
   "cell_type": "markdown",
   "metadata": {
    "id": "Y5coF1O3zced"
   },
   "source": [
    "> Sebelum Case Folding"
   ]
  },
  {
   "cell_type": "code",
   "execution_count": 8,
   "metadata": {
    "colab": {
     "base_uri": "https://localhost:8080/",
     "height": 206
    },
    "executionInfo": {
     "elapsed": 679,
     "status": "ok",
     "timestamp": 1640835900252,
     "user": {
      "displayName": "1819 Patriot Kusuma Sejati",
      "photoUrl": "https://lh3.googleusercontent.com/a-/AOh14GhcSTC58vcEo7XyxhBj_HSlXu2I9oGjs5IJOggk=s64",
      "userId": "08781203421749695851"
     },
     "user_tz": -420
    },
    "id": "ogj4QluxlGRy",
    "outputId": "c0f8a866-b74f-4149-fb47-13a8a6c8600e"
   },
   "outputs": [
    {
     "ename": "FileNotFoundError",
     "evalue": "[Errno 2] No such file or directory: 'Dataset.csv'",
     "output_type": "error",
     "traceback": [
      "\u001b[0;31m---------------------------------------------------------------------------\u001b[0m",
      "\u001b[0;31mFileNotFoundError\u001b[0m                         Traceback (most recent call last)",
      "\u001b[0;32m/tmp/ipykernel_207050/2596303475.py\u001b[0m in \u001b[0;36m<module>\u001b[0;34m\u001b[0m\n\u001b[0;32m----> 1\u001b[0;31m \u001b[0mdata\u001b[0m \u001b[0;34m=\u001b[0m \u001b[0mpd\u001b[0m\u001b[0;34m.\u001b[0m\u001b[0mread_csv\u001b[0m\u001b[0;34m(\u001b[0m\u001b[0;34m\"Dataset.csv\"\u001b[0m\u001b[0;34m,\u001b[0m \u001b[0msep\u001b[0m\u001b[0;34m=\u001b[0m\u001b[0;34m\";\"\u001b[0m\u001b[0;34m,\u001b[0m \u001b[0mencoding\u001b[0m\u001b[0;34m=\u001b[0m\u001b[0;34m'latin1'\u001b[0m\u001b[0;34m)\u001b[0m\u001b[0;34m\u001b[0m\u001b[0;34m\u001b[0m\u001b[0m\n\u001b[0m\u001b[1;32m      2\u001b[0m \u001b[0mdata\u001b[0m\u001b[0;34m[\u001b[0m\u001b[0;34m'tweet'\u001b[0m\u001b[0;34m]\u001b[0m\u001b[0;34m.\u001b[0m\u001b[0mstr\u001b[0m\u001b[0;34m.\u001b[0m\u001b[0mencode\u001b[0m\u001b[0;34m(\u001b[0m\u001b[0;34m'ascii'\u001b[0m\u001b[0;34m,\u001b[0m\u001b[0;34m'ignore'\u001b[0m\u001b[0;34m)\u001b[0m\u001b[0;34m\u001b[0m\u001b[0;34m\u001b[0m\u001b[0m\n\u001b[1;32m      3\u001b[0m \u001b[0mdata\u001b[0m\u001b[0;34m.\u001b[0m\u001b[0mhead\u001b[0m\u001b[0;34m(\u001b[0m\u001b[0;34m)\u001b[0m\u001b[0;34m\u001b[0m\u001b[0;34m\u001b[0m\u001b[0m\n",
      "\u001b[0;32m~/.local/lib/python3.8/site-packages/pandas/util/_decorators.py\u001b[0m in \u001b[0;36mwrapper\u001b[0;34m(*args, **kwargs)\u001b[0m\n\u001b[1;32m    309\u001b[0m                     \u001b[0mstacklevel\u001b[0m\u001b[0;34m=\u001b[0m\u001b[0mstacklevel\u001b[0m\u001b[0;34m,\u001b[0m\u001b[0;34m\u001b[0m\u001b[0;34m\u001b[0m\u001b[0m\n\u001b[1;32m    310\u001b[0m                 )\n\u001b[0;32m--> 311\u001b[0;31m             \u001b[0;32mreturn\u001b[0m \u001b[0mfunc\u001b[0m\u001b[0;34m(\u001b[0m\u001b[0;34m*\u001b[0m\u001b[0margs\u001b[0m\u001b[0;34m,\u001b[0m \u001b[0;34m**\u001b[0m\u001b[0mkwargs\u001b[0m\u001b[0;34m)\u001b[0m\u001b[0;34m\u001b[0m\u001b[0;34m\u001b[0m\u001b[0m\n\u001b[0m\u001b[1;32m    312\u001b[0m \u001b[0;34m\u001b[0m\u001b[0m\n\u001b[1;32m    313\u001b[0m         \u001b[0;32mreturn\u001b[0m \u001b[0mwrapper\u001b[0m\u001b[0;34m\u001b[0m\u001b[0;34m\u001b[0m\u001b[0m\n",
      "\u001b[0;32m~/.local/lib/python3.8/site-packages/pandas/io/parsers/readers.py\u001b[0m in \u001b[0;36mread_csv\u001b[0;34m(filepath_or_buffer, sep, delimiter, header, names, index_col, usecols, squeeze, prefix, mangle_dupe_cols, dtype, engine, converters, true_values, false_values, skipinitialspace, skiprows, skipfooter, nrows, na_values, keep_default_na, na_filter, verbose, skip_blank_lines, parse_dates, infer_datetime_format, keep_date_col, date_parser, dayfirst, cache_dates, iterator, chunksize, compression, thousands, decimal, lineterminator, quotechar, quoting, doublequote, escapechar, comment, encoding, encoding_errors, dialect, error_bad_lines, warn_bad_lines, on_bad_lines, delim_whitespace, low_memory, memory_map, float_precision, storage_options)\u001b[0m\n\u001b[1;32m    584\u001b[0m     \u001b[0mkwds\u001b[0m\u001b[0;34m.\u001b[0m\u001b[0mupdate\u001b[0m\u001b[0;34m(\u001b[0m\u001b[0mkwds_defaults\u001b[0m\u001b[0;34m)\u001b[0m\u001b[0;34m\u001b[0m\u001b[0;34m\u001b[0m\u001b[0m\n\u001b[1;32m    585\u001b[0m \u001b[0;34m\u001b[0m\u001b[0m\n\u001b[0;32m--> 586\u001b[0;31m     \u001b[0;32mreturn\u001b[0m \u001b[0m_read\u001b[0m\u001b[0;34m(\u001b[0m\u001b[0mfilepath_or_buffer\u001b[0m\u001b[0;34m,\u001b[0m \u001b[0mkwds\u001b[0m\u001b[0;34m)\u001b[0m\u001b[0;34m\u001b[0m\u001b[0;34m\u001b[0m\u001b[0m\n\u001b[0m\u001b[1;32m    587\u001b[0m \u001b[0;34m\u001b[0m\u001b[0m\n\u001b[1;32m    588\u001b[0m \u001b[0;34m\u001b[0m\u001b[0m\n",
      "\u001b[0;32m~/.local/lib/python3.8/site-packages/pandas/io/parsers/readers.py\u001b[0m in \u001b[0;36m_read\u001b[0;34m(filepath_or_buffer, kwds)\u001b[0m\n\u001b[1;32m    480\u001b[0m \u001b[0;34m\u001b[0m\u001b[0m\n\u001b[1;32m    481\u001b[0m     \u001b[0;31m# Create the parser.\u001b[0m\u001b[0;34m\u001b[0m\u001b[0;34m\u001b[0m\u001b[0;34m\u001b[0m\u001b[0m\n\u001b[0;32m--> 482\u001b[0;31m     \u001b[0mparser\u001b[0m \u001b[0;34m=\u001b[0m \u001b[0mTextFileReader\u001b[0m\u001b[0;34m(\u001b[0m\u001b[0mfilepath_or_buffer\u001b[0m\u001b[0;34m,\u001b[0m \u001b[0;34m**\u001b[0m\u001b[0mkwds\u001b[0m\u001b[0;34m)\u001b[0m\u001b[0;34m\u001b[0m\u001b[0;34m\u001b[0m\u001b[0m\n\u001b[0m\u001b[1;32m    483\u001b[0m \u001b[0;34m\u001b[0m\u001b[0m\n\u001b[1;32m    484\u001b[0m     \u001b[0;32mif\u001b[0m \u001b[0mchunksize\u001b[0m \u001b[0;32mor\u001b[0m \u001b[0miterator\u001b[0m\u001b[0;34m:\u001b[0m\u001b[0;34m\u001b[0m\u001b[0;34m\u001b[0m\u001b[0m\n",
      "\u001b[0;32m~/.local/lib/python3.8/site-packages/pandas/io/parsers/readers.py\u001b[0m in \u001b[0;36m__init__\u001b[0;34m(self, f, engine, **kwds)\u001b[0m\n\u001b[1;32m    809\u001b[0m             \u001b[0mself\u001b[0m\u001b[0;34m.\u001b[0m\u001b[0moptions\u001b[0m\u001b[0;34m[\u001b[0m\u001b[0;34m\"has_index_names\"\u001b[0m\u001b[0;34m]\u001b[0m \u001b[0;34m=\u001b[0m \u001b[0mkwds\u001b[0m\u001b[0;34m[\u001b[0m\u001b[0;34m\"has_index_names\"\u001b[0m\u001b[0;34m]\u001b[0m\u001b[0;34m\u001b[0m\u001b[0;34m\u001b[0m\u001b[0m\n\u001b[1;32m    810\u001b[0m \u001b[0;34m\u001b[0m\u001b[0m\n\u001b[0;32m--> 811\u001b[0;31m         \u001b[0mself\u001b[0m\u001b[0;34m.\u001b[0m\u001b[0m_engine\u001b[0m \u001b[0;34m=\u001b[0m \u001b[0mself\u001b[0m\u001b[0;34m.\u001b[0m\u001b[0m_make_engine\u001b[0m\u001b[0;34m(\u001b[0m\u001b[0mself\u001b[0m\u001b[0;34m.\u001b[0m\u001b[0mengine\u001b[0m\u001b[0;34m)\u001b[0m\u001b[0;34m\u001b[0m\u001b[0;34m\u001b[0m\u001b[0m\n\u001b[0m\u001b[1;32m    812\u001b[0m \u001b[0;34m\u001b[0m\u001b[0m\n\u001b[1;32m    813\u001b[0m     \u001b[0;32mdef\u001b[0m \u001b[0mclose\u001b[0m\u001b[0;34m(\u001b[0m\u001b[0mself\u001b[0m\u001b[0;34m)\u001b[0m\u001b[0;34m:\u001b[0m\u001b[0;34m\u001b[0m\u001b[0;34m\u001b[0m\u001b[0m\n",
      "\u001b[0;32m~/.local/lib/python3.8/site-packages/pandas/io/parsers/readers.py\u001b[0m in \u001b[0;36m_make_engine\u001b[0;34m(self, engine)\u001b[0m\n\u001b[1;32m   1038\u001b[0m             )\n\u001b[1;32m   1039\u001b[0m         \u001b[0;31m# error: Too many arguments for \"ParserBase\"\u001b[0m\u001b[0;34m\u001b[0m\u001b[0;34m\u001b[0m\u001b[0;34m\u001b[0m\u001b[0m\n\u001b[0;32m-> 1040\u001b[0;31m         \u001b[0;32mreturn\u001b[0m \u001b[0mmapping\u001b[0m\u001b[0;34m[\u001b[0m\u001b[0mengine\u001b[0m\u001b[0;34m]\u001b[0m\u001b[0;34m(\u001b[0m\u001b[0mself\u001b[0m\u001b[0;34m.\u001b[0m\u001b[0mf\u001b[0m\u001b[0;34m,\u001b[0m \u001b[0;34m**\u001b[0m\u001b[0mself\u001b[0m\u001b[0;34m.\u001b[0m\u001b[0moptions\u001b[0m\u001b[0;34m)\u001b[0m  \u001b[0;31m# type: ignore[call-arg]\u001b[0m\u001b[0;34m\u001b[0m\u001b[0;34m\u001b[0m\u001b[0m\n\u001b[0m\u001b[1;32m   1041\u001b[0m \u001b[0;34m\u001b[0m\u001b[0m\n\u001b[1;32m   1042\u001b[0m     \u001b[0;32mdef\u001b[0m \u001b[0m_failover_to_python\u001b[0m\u001b[0;34m(\u001b[0m\u001b[0mself\u001b[0m\u001b[0;34m)\u001b[0m\u001b[0;34m:\u001b[0m\u001b[0;34m\u001b[0m\u001b[0;34m\u001b[0m\u001b[0m\n",
      "\u001b[0;32m~/.local/lib/python3.8/site-packages/pandas/io/parsers/c_parser_wrapper.py\u001b[0m in \u001b[0;36m__init__\u001b[0;34m(self, src, **kwds)\u001b[0m\n\u001b[1;32m     49\u001b[0m \u001b[0;34m\u001b[0m\u001b[0m\n\u001b[1;32m     50\u001b[0m         \u001b[0;31m# open handles\u001b[0m\u001b[0;34m\u001b[0m\u001b[0;34m\u001b[0m\u001b[0;34m\u001b[0m\u001b[0m\n\u001b[0;32m---> 51\u001b[0;31m         \u001b[0mself\u001b[0m\u001b[0;34m.\u001b[0m\u001b[0m_open_handles\u001b[0m\u001b[0;34m(\u001b[0m\u001b[0msrc\u001b[0m\u001b[0;34m,\u001b[0m \u001b[0mkwds\u001b[0m\u001b[0;34m)\u001b[0m\u001b[0;34m\u001b[0m\u001b[0;34m\u001b[0m\u001b[0m\n\u001b[0m\u001b[1;32m     52\u001b[0m         \u001b[0;32massert\u001b[0m \u001b[0mself\u001b[0m\u001b[0;34m.\u001b[0m\u001b[0mhandles\u001b[0m \u001b[0;32mis\u001b[0m \u001b[0;32mnot\u001b[0m \u001b[0;32mNone\u001b[0m\u001b[0;34m\u001b[0m\u001b[0;34m\u001b[0m\u001b[0m\n\u001b[1;32m     53\u001b[0m \u001b[0;34m\u001b[0m\u001b[0m\n",
      "\u001b[0;32m~/.local/lib/python3.8/site-packages/pandas/io/parsers/base_parser.py\u001b[0m in \u001b[0;36m_open_handles\u001b[0;34m(self, src, kwds)\u001b[0m\n\u001b[1;32m    220\u001b[0m         \u001b[0mLet\u001b[0m \u001b[0mthe\u001b[0m \u001b[0mreaders\u001b[0m \u001b[0mopen\u001b[0m \u001b[0mIOHandles\u001b[0m \u001b[0mafter\u001b[0m \u001b[0mthey\u001b[0m \u001b[0mare\u001b[0m \u001b[0mdone\u001b[0m \u001b[0;32mwith\u001b[0m \u001b[0mtheir\u001b[0m \u001b[0mpotential\u001b[0m \u001b[0mraises\u001b[0m\u001b[0;34m.\u001b[0m\u001b[0;34m\u001b[0m\u001b[0;34m\u001b[0m\u001b[0m\n\u001b[1;32m    221\u001b[0m         \"\"\"\n\u001b[0;32m--> 222\u001b[0;31m         self.handles = get_handle(\n\u001b[0m\u001b[1;32m    223\u001b[0m             \u001b[0msrc\u001b[0m\u001b[0;34m,\u001b[0m\u001b[0;34m\u001b[0m\u001b[0;34m\u001b[0m\u001b[0m\n\u001b[1;32m    224\u001b[0m             \u001b[0;34m\"r\"\u001b[0m\u001b[0;34m,\u001b[0m\u001b[0;34m\u001b[0m\u001b[0;34m\u001b[0m\u001b[0m\n",
      "\u001b[0;32m~/.local/lib/python3.8/site-packages/pandas/io/common.py\u001b[0m in \u001b[0;36mget_handle\u001b[0;34m(path_or_buf, mode, encoding, compression, memory_map, is_text, errors, storage_options)\u001b[0m\n\u001b[1;32m    700\u001b[0m         \u001b[0;32mif\u001b[0m \u001b[0mioargs\u001b[0m\u001b[0;34m.\u001b[0m\u001b[0mencoding\u001b[0m \u001b[0;32mand\u001b[0m \u001b[0;34m\"b\"\u001b[0m \u001b[0;32mnot\u001b[0m \u001b[0;32min\u001b[0m \u001b[0mioargs\u001b[0m\u001b[0;34m.\u001b[0m\u001b[0mmode\u001b[0m\u001b[0;34m:\u001b[0m\u001b[0;34m\u001b[0m\u001b[0;34m\u001b[0m\u001b[0m\n\u001b[1;32m    701\u001b[0m             \u001b[0;31m# Encoding\u001b[0m\u001b[0;34m\u001b[0m\u001b[0;34m\u001b[0m\u001b[0;34m\u001b[0m\u001b[0m\n\u001b[0;32m--> 702\u001b[0;31m             handle = open(\n\u001b[0m\u001b[1;32m    703\u001b[0m                 \u001b[0mhandle\u001b[0m\u001b[0;34m,\u001b[0m\u001b[0;34m\u001b[0m\u001b[0;34m\u001b[0m\u001b[0m\n\u001b[1;32m    704\u001b[0m                 \u001b[0mioargs\u001b[0m\u001b[0;34m.\u001b[0m\u001b[0mmode\u001b[0m\u001b[0;34m,\u001b[0m\u001b[0;34m\u001b[0m\u001b[0;34m\u001b[0m\u001b[0m\n",
      "\u001b[0;31mFileNotFoundError\u001b[0m: [Errno 2] No such file or directory: 'Dataset.csv'"
     ]
    }
   ],
   "source": [
    "data = pd.read_csv(\"Dataset.csv\", sep=\";\", encoding='latin1')\n",
    "data['tweet'].str.encode('ascii','ignore')\n",
    "data.head()"
   ]
  },
  {
   "cell_type": "code",
   "execution_count": null,
   "metadata": {
    "executionInfo": {
     "elapsed": 694,
     "status": "ok",
     "timestamp": 1640872677154,
     "user": {
      "displayName": "1819 Patriot Kusuma Sejati",
      "photoUrl": "https://lh3.googleusercontent.com/a-/AOh14GhcSTC58vcEo7XyxhBj_HSlXu2I9oGjs5IJOggk=s64",
      "userId": "08781203421749695851"
     },
     "user_tz": -420
    },
    "id": "onh-No-PoNBR"
   },
   "outputs": [],
   "source": [
    "data = pd.read_csv(\"data_after_preprocessing.csv\",sep=';', encoding='utf-8')"
   ]
  },
  {
   "cell_type": "code",
   "execution_count": null,
   "metadata": {
    "colab": {
     "base_uri": "https://localhost:8080/",
     "height": 583
    },
    "executionInfo": {
     "elapsed": 359,
     "status": "ok",
     "timestamp": 1640873239270,
     "user": {
      "displayName": "1819 Patriot Kusuma Sejati",
      "photoUrl": "https://lh3.googleusercontent.com/a-/AOh14GhcSTC58vcEo7XyxhBj_HSlXu2I9oGjs5IJOggk=s64",
      "userId": "08781203421749695851"
     },
     "user_tz": -420
    },
    "id": "xCK4pMEwqpHC",
    "outputId": "baa3b5ac-0231-4e76-ce97-8904804b3021"
   },
   "outputs": [],
   "source": [
    "data.head()"
   ]
  },
  {
   "cell_type": "markdown",
   "metadata": {
    "id": "UtfzG5b4zre5"
   },
   "source": [
    "> Sesudah Case Folding"
   ]
  },
  {
   "cell_type": "markdown",
   "metadata": {
    "id": "bHqF5XrX0Svd"
   },
   "source": [
    "## Text Cleaning"
   ]
  },
  {
   "cell_type": "markdown",
   "metadata": {
    "id": "F5-tHuI-1_6F"
   },
   "source": [
    ">Karakter Spesial"
   ]
  },
  {
   "cell_type": "code",
   "execution_count": null,
   "metadata": {
    "id": "Hwr17WYD0h2N"
   },
   "outputs": [],
   "source": [
    "def remove_tweet_special(text):\n",
    "  # Remove Tab, New Line, ans Back Slice\n",
    "  text = text.replace('\\\\t',\" \").replace('\\\\n',\" \").replace('\\\\u',\" \").replace('\\\\',\"\")\n",
    "  # Remove non ASCII (emoticon, chinese word, etc)\n",
    "  text = text.encode('ascii', 'replace').decode('ascii')\n",
    "  # Remove mention, link, hastag\n",
    "  text = ' '.join(re.sub(\"([@#][A-Za-z0-9]+)|(\\w+:\\/\\/\\S+)\",\" \", text).split())\n",
    "  # Remove incomplete URL\n",
    "  text = text.replace(\"http://\", \" \").replace(\"https://\", \" \")\n",
    "  # Remove Number\n",
    "  text = re.sub(r\"\\d+\", \"\", text)\n",
    "  # Remove Punctuation\n",
    "  text = text.translate(str.maketrans(\"\",\"\",string.punctuation))\n",
    "  # whitespace\n",
    "  text = text.strip()\n",
    "  # whitiespace multiple\n",
    "  text = re.sub('\\s+',' ',text)\n",
    "  #single char\n",
    "  text = re.sub(r\"\\b[a-zA-Z]\\b\", \"\", text)\n",
    "    #make lower text\n",
    "  text = str.lower(text)\n",
    "  return text\n",
    "\n",
    "data['cleaning'] = data['tweet'].apply(remove_tweet_special)"
   ]
  },
  {
   "cell_type": "code",
   "execution_count": null,
   "metadata": {
    "colab": {
     "base_uri": "https://localhost:8080/",
     "height": 206
    },
    "executionInfo": {
     "elapsed": 347,
     "status": "ok",
     "timestamp": 1640835915823,
     "user": {
      "displayName": "1819 Patriot Kusuma Sejati",
      "photoUrl": "https://lh3.googleusercontent.com/a-/AOh14GhcSTC58vcEo7XyxhBj_HSlXu2I9oGjs5IJOggk=s64",
      "userId": "08781203421749695851"
     },
     "user_tz": -420
    },
    "id": "18zQ04wU3590",
    "outputId": "4d68e098-3ec9-46b5-e934-6ad02f7c2648"
   },
   "outputs": [],
   "source": [
    "data.head()"
   ]
  },
  {
   "cell_type": "code",
   "execution_count": null,
   "metadata": {},
   "outputs": [],
   "source": [
    "data.to_csv(\"dataset_text_after_cleaning.csv\",sep=';')"
   ]
  },
  {
   "cell_type": "markdown",
   "metadata": {
    "id": "QT2J7Gft3neH"
   },
   "source": [
    "##**Tokenizing**"
   ]
  },
  {
   "cell_type": "code",
   "execution_count": null,
   "metadata": {
    "id": "NC5zWl6Y3r6N"
   },
   "outputs": [],
   "source": [
    "# NLTK word tokenize \n",
    "def word_tokenize_wrapper(text):\n",
    "    return word_tokenize(text)\n",
    "\n",
    "data['tweet_tokens'] = data['cleaning'].apply(word_tokenize_wrapper)"
   ]
  },
  {
   "cell_type": "code",
   "execution_count": null,
   "metadata": {
    "colab": {
     "base_uri": "https://localhost:8080/"
    },
    "executionInfo": {
     "elapsed": 357,
     "status": "ok",
     "timestamp": 1640835948377,
     "user": {
      "displayName": "1819 Patriot Kusuma Sejati",
      "photoUrl": "https://lh3.googleusercontent.com/a-/AOh14GhcSTC58vcEo7XyxhBj_HSlXu2I9oGjs5IJOggk=s64",
      "userId": "08781203421749695851"
     },
     "user_tz": -420
    },
    "id": "c6BuVdye4Vzf",
    "outputId": "984c12ca-f927-42c3-a4a2-8d82279e93b8"
   },
   "outputs": [],
   "source": [
    "print('Tokenizing Result : \\n') \n",
    "print(data['tweet_tokens'].head())"
   ]
  },
  {
   "cell_type": "markdown",
   "metadata": {
    "id": "ZN87wmP55gLm"
   },
   "source": [
    "NLTK calc Frequently Distribution"
   ]
  },
  {
   "cell_type": "code",
   "execution_count": null,
   "metadata": {},
   "outputs": [],
   "source": [
    "data.to_csv(\"dataset_text_after_tokenizing.csv\",sep=';')"
   ]
  },
  {
   "cell_type": "code",
   "execution_count": null,
   "metadata": {
    "id": "wOAjXs7v5kl1"
   },
   "outputs": [],
   "source": [
    "def freqDist_wrapper(text):\n",
    "  return FreqDist(text)\n",
    "\n",
    "data['tweet_tokens_fdist'] = data['tweet_tokens'].apply(freqDist_wrapper)"
   ]
  },
  {
   "cell_type": "code",
   "execution_count": null,
   "metadata": {
    "colab": {
     "base_uri": "https://localhost:8080/"
    },
    "executionInfo": {
     "elapsed": 4,
     "status": "ok",
     "timestamp": 1640835953459,
     "user": {
      "displayName": "1819 Patriot Kusuma Sejati",
      "photoUrl": "https://lh3.googleusercontent.com/a-/AOh14GhcSTC58vcEo7XyxhBj_HSlXu2I9oGjs5IJOggk=s64",
      "userId": "08781203421749695851"
     },
     "user_tz": -420
    },
    "id": "bSGVvDfv53Xw",
    "outputId": "79887eff-e245-4925-ce3f-40fa5fa21aad"
   },
   "outputs": [],
   "source": [
    "print('Frequency Tokens : \\n') \n",
    "print(data['tweet_tokens_fdist'].head().apply(lambda x : x.most_common()))"
   ]
  },
  {
   "cell_type": "markdown",
   "metadata": {
    "id": "KK7zGytP6d_3"
   },
   "source": [
    "## Stopwords"
   ]
  },
  {
   "cell_type": "markdown",
   "metadata": {
    "id": "aZJrpUlz6sC-"
   },
   "source": [
    ">Stopwords Indonesia"
   ]
  },
  {
   "cell_type": "code",
   "execution_count": null,
   "metadata": {
    "colab": {
     "base_uri": "https://localhost:8080/"
    },
    "executionInfo": {
     "elapsed": 357,
     "status": "ok",
     "timestamp": 1640835956465,
     "user": {
      "displayName": "1819 Patriot Kusuma Sejati",
      "photoUrl": "https://lh3.googleusercontent.com/a-/AOh14GhcSTC58vcEo7XyxhBj_HSlXu2I9oGjs5IJOggk=s64",
      "userId": "08781203421749695851"
     },
     "user_tz": -420
    },
    "id": "5Nj9F3x46pWL",
    "outputId": "17a984cc-8395-415b-e26b-714a8cdf5cc3"
   },
   "outputs": [],
   "source": [
    "list_stopwords = stopwords.words('indonesian')\n",
    "#print(list_stopwords)"
   ]
  },
  {
   "cell_type": "markdown",
   "metadata": {
    "id": "LwZr9epo7wIK"
   },
   "source": [
    ">Stopwords Additional"
   ]
  },
  {
   "cell_type": "code",
   "execution_count": null,
   "metadata": {
    "colab": {
     "base_uri": "https://localhost:8080/"
    },
    "executionInfo": {
     "elapsed": 4,
     "status": "ok",
     "timestamp": 1640835958403,
     "user": {
      "displayName": "1819 Patriot Kusuma Sejati",
      "photoUrl": "https://lh3.googleusercontent.com/a-/AOh14GhcSTC58vcEo7XyxhBj_HSlXu2I9oGjs5IJOggk=s64",
      "userId": "08781203421749695851"
     },
     "user_tz": -420
    },
    "id": "Yiq85_YF7yEW",
    "outputId": "f6b1ad1e-d335-46ab-ced7-fe835e74f93a"
   },
   "outputs": [],
   "source": [
    "list_stopwords.extend([\"yg\", \"dg\", \"rt\", \"dgn\", \"ny\", \"d\", 'klo', \n",
    "                       'kalo', 'amp', 'biar', 'bikin', 'bilang', \n",
    "                       'gak', 'ga', 'krn', 'nya', 'nih', 'sih', \n",
    "                       'si', 'tau', 'tdk', 'tuh', 'utk', 'ya', \n",
    "                       'jd', 'jgn', 'sdh', 'aja', 'n', 't', \n",
    "                       'nyg', 'hehe', 'pen', 'u', 'nan', 'loh', 'rt',\n",
    "                       '&amp', 'yah'])\n",
    "#print(list_stopwords)"
   ]
  },
  {
   "cell_type": "markdown",
   "metadata": {
    "id": "z1Y4p4Bn8CVQ"
   },
   "source": [
    ">Stopwords dari File"
   ]
  },
  {
   "cell_type": "code",
   "execution_count": null,
   "metadata": {
    "id": "jsTP0Dl18mpX"
   },
   "outputs": [],
   "source": [
    "txt_stopwords = pd.read_csv(\"stopwords.txt\",names=[\"stopwords\"], header=None)\n",
    "list_stopwords.extend(txt_stopwords[\"stopwords\"][0].split(' '))"
   ]
  },
  {
   "cell_type": "code",
   "execution_count": null,
   "metadata": {
    "colab": {
     "base_uri": "https://localhost:8080/"
    },
    "executionInfo": {
     "elapsed": 548,
     "status": "ok",
     "timestamp": 1640835977488,
     "user": {
      "displayName": "1819 Patriot Kusuma Sejati",
      "photoUrl": "https://lh3.googleusercontent.com/a-/AOh14GhcSTC58vcEo7XyxhBj_HSlXu2I9oGjs5IJOggk=s64",
      "userId": "08781203421749695851"
     },
     "user_tz": -420
    },
    "id": "gr1X4PQr81I2",
    "outputId": "5808875f-334a-48a8-dfae-af12400ac8fe"
   },
   "outputs": [],
   "source": [
    "print(list_stopwords)"
   ]
  },
  {
   "cell_type": "markdown",
   "metadata": {
    "id": "Es50aiG99IIE"
   },
   "source": [
    ">Convert List to Dictionary"
   ]
  },
  {
   "cell_type": "code",
   "execution_count": null,
   "metadata": {
    "id": "z5Qkdrlb9KUC"
   },
   "outputs": [],
   "source": [
    "list_stopwords = set(list_stopwords)"
   ]
  },
  {
   "cell_type": "markdown",
   "metadata": {
    "id": "uTkzkB-Z9Q8L"
   },
   "source": [
    "> Menghapus Stopwords pada list token"
   ]
  },
  {
   "cell_type": "code",
   "execution_count": null,
   "metadata": {
    "id": "_w5c3xup9ULG"
   },
   "outputs": [],
   "source": [
    "def stopwords_removal(words):\n",
    "  return [word for word in words if word not in list_stopwords]\n",
    "\n",
    "data['tweet_stopwords'] = data['tweet_tokens'].apply(stopwords_removal)"
   ]
  },
  {
   "cell_type": "code",
   "execution_count": null,
   "metadata": {
    "colab": {
     "base_uri": "https://localhost:8080/"
    },
    "executionInfo": {
     "elapsed": 347,
     "status": "ok",
     "timestamp": 1640835985053,
     "user": {
      "displayName": "1819 Patriot Kusuma Sejati",
      "photoUrl": "https://lh3.googleusercontent.com/a-/AOh14GhcSTC58vcEo7XyxhBj_HSlXu2I9oGjs5IJOggk=s64",
      "userId": "08781203421749695851"
     },
     "user_tz": -420
    },
    "id": "zCuSbcHB9onc",
    "outputId": "762c1504-e77c-438e-d0e3-8b6d6ce50267"
   },
   "outputs": [],
   "source": [
    "print(data['tweet_stopwords'].head(5))"
   ]
  },
  {
   "cell_type": "code",
   "execution_count": null,
   "metadata": {},
   "outputs": [],
   "source": [
    "data.to_csv('data_text_after_stopwords.csv',sep=';')"
   ]
  },
  {
   "cell_type": "markdown",
   "metadata": {
    "id": "6WpQ5FMb4qNi"
   },
   "source": [
    "##Normalization"
   ]
  },
  {
   "cell_type": "code",
   "execution_count": null,
   "metadata": {
    "id": "wLsatbno4t0j"
   },
   "outputs": [],
   "source": [
    "normalization_word = pd.read_csv(\"colloquial-indonesian-lexicon.csv\")\n",
    "normalization_word_dict = {}\n",
    "\n",
    "for index, row in normalization_word.iterrows():\n",
    "  if row[0] not in normalization_word_dict:\n",
    "    normalization_word_dict[row[0]] = row[1]\n",
    "\n",
    "def normalization(document):\n",
    "  return [normalization_word_dict[term] if term in normalization_word_dict else term for term in document]\n",
    "\n",
    "data['normalization'] = data['tweet_stopwords'].apply(normalization)\n"
   ]
  },
  {
   "cell_type": "code",
   "execution_count": null,
   "metadata": {
    "colab": {
     "base_uri": "https://localhost:8080/",
     "height": 493
    },
    "executionInfo": {
     "elapsed": 694,
     "status": "ok",
     "timestamp": 1640836003573,
     "user": {
      "displayName": "1819 Patriot Kusuma Sejati",
      "photoUrl": "https://lh3.googleusercontent.com/a-/AOh14GhcSTC58vcEo7XyxhBj_HSlXu2I9oGjs5IJOggk=s64",
      "userId": "08781203421749695851"
     },
     "user_tz": -420
    },
    "id": "JnK8jQeqLKY0",
    "outputId": "15d27dbf-0fc0-4a1c-8a94-1b14dc42c06f"
   },
   "outputs": [],
   "source": [
    "from nltk.tokenize.treebank import TreebankWordDetokenizer\n",
    "data['normalization']=data['normalization'].apply(lambda x: TreebankWordDetokenizer().detokenize(x))\n",
    "data.head()"
   ]
  },
  {
   "cell_type": "code",
   "execution_count": null,
   "metadata": {},
   "outputs": [],
   "source": [
    "data.to_csv('data_text_after_normalization.csv',sep=';')"
   ]
  },
  {
   "cell_type": "markdown",
   "metadata": {
    "id": "hVpuyZj6Azzz"
   },
   "source": [
    "## Stemming"
   ]
  },
  {
   "cell_type": "code",
   "execution_count": null,
   "metadata": {
    "id": "KF3_z4HL68IU"
   },
   "outputs": [],
   "source": [
    "def stemming(text):\n",
    "  factory = StemmerFactory()\n",
    "  stemmer = factory.create_stemmer()\n",
    "  stem = stemmer.stem(text)\n",
    "  return stem\n",
    "\n",
    "data['text_stemming'] = data['normalization'].apply(lambda text: stemming(text))"
   ]
  },
  {
   "cell_type": "code",
   "execution_count": null,
   "metadata": {
    "colab": {
     "base_uri": "https://localhost:8080/",
     "height": 565
    },
    "executionInfo": {
     "elapsed": 353,
     "status": "ok",
     "timestamp": 1640838284716,
     "user": {
      "displayName": "1819 Patriot Kusuma Sejati",
      "photoUrl": "https://lh3.googleusercontent.com/a-/AOh14GhcSTC58vcEo7XyxhBj_HSlXu2I9oGjs5IJOggk=s64",
      "userId": "08781203421749695851"
     },
     "user_tz": -420
    },
    "id": "rExmFdz67lve",
    "outputId": "6ce9048e-3a16-41a5-b8bd-9299b87070e8"
   },
   "outputs": [],
   "source": [
    "data.head()"
   ]
  },
  {
   "cell_type": "code",
   "execution_count": null,
   "metadata": {},
   "outputs": [],
   "source": [
    "data.to_csv(\"data_text_after_stemming.csv\", sep=';')"
   ]
  },
  {
   "cell_type": "code",
   "execution_count": null,
   "metadata": {},
   "outputs": [],
   "source": [
    "data.to_csv(\"data_after_preprocessing.csv\", sep=';',encoding='utf-8')"
   ]
  },
  {
   "cell_type": "markdown",
   "metadata": {
    "id": "k1fWTg39Ei9R"
   },
   "source": [
    "##Memberi Label"
   ]
  },
  {
   "cell_type": "code",
   "execution_count": null,
   "metadata": {
    "executionInfo": {
     "elapsed": 373,
     "status": "ok",
     "timestamp": 1640873271894,
     "user": {
      "displayName": "1819 Patriot Kusuma Sejati",
      "photoUrl": "https://lh3.googleusercontent.com/a-/AOh14GhcSTC58vcEo7XyxhBj_HSlXu2I9oGjs5IJOggk=s64",
      "userId": "08781203421749695851"
     },
     "user_tz": -420
    },
    "id": "0XCE5ypLEmai"
   },
   "outputs": [],
   "source": [
    "def labelToNumeric(category):\n",
    "  if category == 'Negatif':\n",
    "    return 0\n",
    "  elif category == 'Positif':\n",
    "    return 1\n",
    "  else :\n",
    "    return 0\n",
    "data['category'] = data['Value'].apply(labelToNumeric)"
   ]
  },
  {
   "cell_type": "code",
   "execution_count": null,
   "metadata": {
    "colab": {
     "base_uri": "https://localhost:8080/"
    },
    "executionInfo": {
     "elapsed": 9,
     "status": "ok",
     "timestamp": 1640873273924,
     "user": {
      "displayName": "1819 Patriot Kusuma Sejati",
      "photoUrl": "https://lh3.googleusercontent.com/a-/AOh14GhcSTC58vcEo7XyxhBj_HSlXu2I9oGjs5IJOggk=s64",
      "userId": "08781203421749695851"
     },
     "user_tz": -420
    },
    "id": "RCMzNLssFGYX",
    "outputId": "5affc762-cb2c-42d9-a60f-9a137e5c344f"
   },
   "outputs": [],
   "source": [
    "positif,negatif=data['category'].value_counts()"
   ]
  },
  {
   "cell_type": "code",
   "execution_count": null,
   "metadata": {},
   "outputs": [],
   "source": [
    "data['category']"
   ]
  },
  {
   "cell_type": "code",
   "execution_count": null,
   "metadata": {
    "colab": {
     "base_uri": "https://localhost:8080/",
     "height": 608
    },
    "executionInfo": {
     "elapsed": 990,
     "status": "ok",
     "timestamp": 1640838415604,
     "user": {
      "displayName": "1819 Patriot Kusuma Sejati",
      "photoUrl": "https://lh3.googleusercontent.com/a-/AOh14GhcSTC58vcEo7XyxhBj_HSlXu2I9oGjs5IJOggk=s64",
      "userId": "08781203421749695851"
     },
     "user_tz": -420
    },
    "id": "TXPLtADFFMtL",
    "outputId": "f6eb8e8d-22c9-4f2b-e886-57f2024abe64"
   },
   "outputs": [],
   "source": [
    "tfid_vectorized = TfidfVectorizer()\n",
    "tfid_vectorized.fit(data['tweet'])\n",
    "dictionary = tfid_vectorized.vocabulary_.items()\n",
    "vocab = []\n",
    "count = []\n",
    "for key, value in dictionary:\n",
    "  vocab.append(key)\n",
    "  count.append(value)\n",
    "vocab_bef_stem = pd.Series(count, index=vocab)\n",
    "vocab_bef_stem = vocab_bef_stem.sort_values(ascending=True)\n",
    "top_vocab = vocab_bef_stem.head(30)\n",
    "top_vocab.plot(kind = 'barh', figsize=(5,10))"
   ]
  },
  {
   "cell_type": "code",
   "execution_count": null,
   "metadata": {
    "id": "Q1dpZoltGCiy"
   },
   "outputs": [],
   "source": [
    "X_train, X_test, y_train, y_test = model_selection.train_test_split( data['text_stemming'].values.astype('U'), data['category'], test_size=0.2, random_state=45)"
   ]
  },
  {
   "cell_type": "markdown",
   "metadata": {
    "id": "v4ivlMgdGe-o"
   },
   "source": [
    "## Feature Extraction/Pembobotan TF-IDF"
   ]
  },
  {
   "cell_type": "markdown",
   "metadata": {
    "id": "LDL0ZZ69DCfs"
   },
   "source": [
    ">Bag of Words Model"
   ]
  },
  {
   "cell_type": "code",
   "execution_count": null,
   "metadata": {
    "colab": {
     "base_uri": "https://localhost:8080/",
     "height": 345
    },
    "executionInfo": {
     "elapsed": 856,
     "status": "error",
     "timestamp": 1640876376593,
     "user": {
      "displayName": "1819 Patriot Kusuma Sejati",
      "photoUrl": "https://lh3.googleusercontent.com/a-/AOh14GhcSTC58vcEo7XyxhBj_HSlXu2I9oGjs5IJOggk=s64",
      "userId": "08781203421749695851"
     },
     "user_tz": -420
    },
    "id": "u5-sO1CeDACa",
    "outputId": "01d6af05-5c4f-41dc-b82b-13f225189ffe"
   },
   "outputs": [],
   "source": [
    "cv = CountVectorizer()\n",
    "X = cv.fit_transform(data['text_stemming'].values.astype('U')).toarray()\n",
    "Y = data['category']"
   ]
  },
  {
   "cell_type": "code",
   "execution_count": null,
   "metadata": {},
   "outputs": [],
   "source": [
    "import pickle\n",
    "pickle.dump(cv,open('cv.model'))"
   ]
  },
  {
   "cell_type": "markdown",
   "metadata": {
    "id": "Kmnjg_ryDcVp"
   },
   "source": [
    ">Creating TF-IDF"
   ]
  },
  {
   "cell_type": "code",
   "execution_count": null,
   "metadata": {
    "id": "XPmJOnJ8DenK"
   },
   "outputs": [],
   "source": [
    "from sklearn.feature_extraction.text import TfidfTransformer\n",
    "tfidfconverter = TfidfTransformer()\n",
    "X = tfidfconverter.fit_transform(X).toarray()"
   ]
  },
  {
   "cell_type": "code",
   "execution_count": null,
   "metadata": {
    "colab": {
     "base_uri": "https://localhost:8080/"
    },
    "executionInfo": {
     "elapsed": 394,
     "status": "ok",
     "timestamp": 1640849749619,
     "user": {
      "displayName": "1819 Patriot Kusuma Sejati",
      "photoUrl": "https://lh3.googleusercontent.com/a-/AOh14GhcSTC58vcEo7XyxhBj_HSlXu2I9oGjs5IJOggk=s64",
      "userId": "08781203421749695851"
     },
     "user_tz": -420
    },
    "id": "uScTmkaTD1dY",
    "outputId": "bab9f252-901e-420c-e7a9-255b55cdf9b4"
   },
   "outputs": [],
   "source": [
    "print(X)"
   ]
  },
  {
   "cell_type": "markdown",
   "metadata": {
    "id": "8m39GRPSD4Or"
   },
   "source": [
    "## CRoss Validation"
   ]
  },
  {
   "cell_type": "code",
   "execution_count": null,
   "metadata": {
    "id": "cmYAWizSD56h"
   },
   "outputs": [],
   "source": [
    "from sklearn.model_selection import cross_val_score\n",
    "clf = svm.SVC(C=0.5, degree=2, gamma='scale', kernel='sigmoid')\n",
    "scores = cross_val_score(clf,X,Y, cv=10)"
   ]
  },
  {
   "cell_type": "code",
   "execution_count": null,
   "metadata": {
    "colab": {
     "base_uri": "https://localhost:8080/"
    },
    "executionInfo": {
     "elapsed": 417,
     "status": "ok",
     "timestamp": 1640838727854,
     "user": {
      "displayName": "1819 Patriot Kusuma Sejati",
      "photoUrl": "https://lh3.googleusercontent.com/a-/AOh14GhcSTC58vcEo7XyxhBj_HSlXu2I9oGjs5IJOggk=s64",
      "userId": "08781203421749695851"
     },
     "user_tz": -420
    },
    "id": "8qOGxprlETAb",
    "outputId": "ac0af95b-2e25-4623-bf36-0b9305296164"
   },
   "outputs": [],
   "source": [
    "print(scores)\n",
    "scores.mean()"
   ]
  },
  {
   "cell_type": "code",
   "execution_count": null,
   "metadata": {
    "id": "YF9DXzXiEZBp"
   },
   "outputs": [],
   "source": [
    "from sklearn.naive_bayes import MultinomialNB\n",
    "clf2 = MultinomialNB(fit_prior=False)\n",
    "scores2 = cross_val_score(clf2,X,Y, cv=10)"
   ]
  },
  {
   "cell_type": "code",
   "execution_count": null,
   "metadata": {
    "colab": {
     "base_uri": "https://localhost:8080/"
    },
    "executionInfo": {
     "elapsed": 378,
     "status": "ok",
     "timestamp": 1640838752484,
     "user": {
      "displayName": "1819 Patriot Kusuma Sejati",
      "photoUrl": "https://lh3.googleusercontent.com/a-/AOh14GhcSTC58vcEo7XyxhBj_HSlXu2I9oGjs5IJOggk=s64",
      "userId": "08781203421749695851"
     },
     "user_tz": -420
    },
    "id": "-pRg_FYoEvQ7",
    "outputId": "879f2082-9c67-42d2-9703-80d82669915f"
   },
   "outputs": [],
   "source": [
    "print(scores2)\n",
    "scores2.mean()"
   ]
  },
  {
   "cell_type": "markdown",
   "metadata": {
    "id": "Qd_2FA11E3rL"
   },
   "source": [
    "## Grid Search"
   ]
  },
  {
   "cell_type": "code",
   "execution_count": null,
   "metadata": {
    "colab": {
     "base_uri": "https://localhost:8080/"
    },
    "executionInfo": {
     "elapsed": 6625681,
     "status": "ok",
     "timestamp": 1640845382319,
     "user": {
      "displayName": "1819 Patriot Kusuma Sejati",
      "photoUrl": "https://lh3.googleusercontent.com/a-/AOh14GhcSTC58vcEo7XyxhBj_HSlXu2I9oGjs5IJOggk=s64",
      "userId": "08781203421749695851"
     },
     "user_tz": -420
    },
    "id": "C_ByVswHE5Vv",
    "outputId": "0083d346-0ad4-4f2c-f9d5-bb810dfa0f92"
   },
   "outputs": [],
   "source": [
    "from sklearn.model_selection import GridSearchCV\n",
    "from sklearn import svm\n",
    "svm = svm.SVC()\n",
    "param = {'C':(0.5,1),\n",
    "         'kernel':('rbf','linear','sigmoid','poly'),\n",
    "         'gamma':('scale','auto'),\n",
    "         'degree':(2,3,4)\n",
    "         }\n",
    "grid = GridSearchCV(svm, param)\n",
    "grid.fit(X,Y)\n",
    "grid.best_params_"
   ]
  },
  {
   "cell_type": "code",
   "execution_count": null,
   "metadata": {
    "colab": {
     "base_uri": "https://localhost:8080/"
    },
    "executionInfo": {
     "elapsed": 386,
     "status": "ok",
     "timestamp": 1640848082731,
     "user": {
      "displayName": "1819 Patriot Kusuma Sejati",
      "photoUrl": "https://lh3.googleusercontent.com/a-/AOh14GhcSTC58vcEo7XyxhBj_HSlXu2I9oGjs5IJOggk=s64",
      "userId": "08781203421749695851"
     },
     "user_tz": -420
    },
    "id": "plA1uxakGSpc",
    "outputId": "dde18a72-5f98-46b4-de9d-2a89fef27a65"
   },
   "outputs": [],
   "source": [
    "grid.best_score_"
   ]
  },
  {
   "cell_type": "markdown",
   "metadata": {
    "id": "gOkC8ic3GfVj"
   },
   "source": [
    "## Split Dataset"
   ]
  },
  {
   "cell_type": "markdown",
   "metadata": {
    "id": "9yGHO3a3GjGC"
   },
   "source": [
    ">Splitting Dataset into training and testing"
   ]
  },
  {
   "cell_type": "code",
   "execution_count": null,
   "metadata": {
    "id": "xSWusb8mGgl7"
   },
   "outputs": [],
   "source": [
    "from sklearn.model_selection import train_test_split\n",
    "X_train, X_test, y_train, y_test = train_test_split(X,Y, test_size=0.2, random_state=45)"
   ]
  },
  {
   "cell_type": "code",
   "execution_count": null,
   "metadata": {
    "colab": {
     "base_uri": "https://localhost:8080/"
    },
    "executionInfo": {
     "elapsed": 340,
     "status": "ok",
     "timestamp": 1640849722811,
     "user": {
      "displayName": "1819 Patriot Kusuma Sejati",
      "photoUrl": "https://lh3.googleusercontent.com/a-/AOh14GhcSTC58vcEo7XyxhBj_HSlXu2I9oGjs5IJOggk=s64",
      "userId": "08781203421749695851"
     },
     "user_tz": -420
    },
    "id": "zTrVqqagQ5nw",
    "outputId": "54d2df8a-fe43-412b-f203-e42320df08e8"
   },
   "outputs": [],
   "source": [
    "print(X)"
   ]
  },
  {
   "cell_type": "markdown",
   "metadata": {
    "id": "cRUnLKCiG5cW"
   },
   "source": [
    "## SVM"
   ]
  },
  {
   "cell_type": "code",
   "execution_count": null,
   "metadata": {
    "id": "dpOufad7G62P"
   },
   "outputs": [],
   "source": [
    "from sklearn import svm\n",
    "import time\n",
    "\n",
    "classifierSVM = svm.SVC(C=0.5,degree=2, gamma='scale', kernel='sigmoid')"
   ]
  },
  {
   "cell_type": "markdown",
   "metadata": {
    "id": "aMrXZ0g2HOrb"
   },
   "source": [
    ">Proses Pelatihan"
   ]
  },
  {
   "cell_type": "code",
   "execution_count": null,
   "metadata": {
    "colab": {
     "base_uri": "https://localhost:8080/"
    },
    "executionInfo": {
     "elapsed": 22194,
     "status": "ok",
     "timestamp": 1640849549826,
     "user": {
      "displayName": "1819 Patriot Kusuma Sejati",
      "photoUrl": "https://lh3.googleusercontent.com/a-/AOh14GhcSTC58vcEo7XyxhBj_HSlXu2I9oGjs5IJOggk=s64",
      "userId": "08781203421749695851"
     },
     "user_tz": -420
    },
    "id": "Rs0ZrauUHP4F",
    "outputId": "7e26d40c-c527-44c8-a622-313f85a663da"
   },
   "outputs": [],
   "source": [
    "t0 = time.time()\n",
    "classifierSVM.fit(X_train, y_train)\n",
    "t1 = time.time()"
   ]
  },
  {
   "cell_type": "markdown",
   "metadata": {
    "id": "BSbnrr7VHWTt"
   },
   "source": [
    ">Prediksi Dataset"
   ]
  },
  {
   "cell_type": "code",
   "execution_count": null,
   "metadata": {
    "id": "t0o1IfepHXri"
   },
   "outputs": [],
   "source": [
    "y_pred_SVM = classifierSVM.predict(X_test)\n",
    "t2 = time.time()\n",
    "time_train=t1-t0\n",
    "time_predict=t2-t1"
   ]
  },
  {
   "cell_type": "code",
   "execution_count": null,
   "metadata": {},
   "outputs": [],
   "source": [
    "#time\n",
    "print(\"Training Time: %fs, Prediction Time: %fs\"%(time_train, time_predict))"
   ]
  },
  {
   "cell_type": "code",
   "execution_count": null,
   "metadata": {},
   "outputs": [],
   "source": [
    "import pickle"
   ]
  },
  {
   "cell_type": "code",
   "execution_count": null,
   "metadata": {},
   "outputs": [],
   "source": [
    "pickle.dump(classifierSVM,open('classifierSVM.model','wb'))"
   ]
  },
  {
   "cell_type": "code",
   "execution_count": null,
   "metadata": {
    "colab": {
     "base_uri": "https://localhost:8080/"
    },
    "executionInfo": {
     "elapsed": 356,
     "status": "ok",
     "timestamp": 1640849568433,
     "user": {
      "displayName": "1819 Patriot Kusuma Sejati",
      "photoUrl": "https://lh3.googleusercontent.com/a-/AOh14GhcSTC58vcEo7XyxhBj_HSlXu2I9oGjs5IJOggk=s64",
      "userId": "08781203421749695851"
     },
     "user_tz": -420
    },
    "id": "8DDCcig1HiYV",
    "outputId": "9a420fe1-bfab-471b-ded5-aeba5e7368bb"
   },
   "outputs": [],
   "source": [
    "from sklearn.metrics import confusion_matrix\n",
    "cm_SVM = confusion_matrix(y_test, y_pred_SVM)\n",
    "print('confusin matrix :')\n",
    "print(cm_SVM)\n",
    "\n",
    "from sklearn.metrics import accuracy_score\n",
    "acc = (accuracy_score(y_test, y_pred_SVM))\n",
    "print(\"Accuracy : \", (acc))\n",
    "\n",
    "from sklearn.metrics import precision_score\n",
    "pcc = (precision_score(y_test, y_pred_SVM))\n",
    "print(\"Preccision : \",(pcc))\n",
    "\n",
    "from sklearn.metrics import recall_score\n",
    "rec = (recall_score(y_test, y_pred_SVM))\n",
    "print(\"Recall : \", (rec))\n",
    "\n",
    "from sklearn.metrics import f1_score\n",
    "f1= (f1_score(y_test, y_pred_SVM))\n",
    "print(\"Skor F1: \", (f1))"
   ]
  },
  {
   "cell_type": "code",
   "execution_count": null,
   "metadata": {
    "colab": {
     "base_uri": "https://localhost:8080/"
    },
    "executionInfo": {
     "elapsed": 341,
     "status": "ok",
     "timestamp": 1640849575049,
     "user": {
      "displayName": "1819 Patriot Kusuma Sejati",
      "photoUrl": "https://lh3.googleusercontent.com/a-/AOh14GhcSTC58vcEo7XyxhBj_HSlXu2I9oGjs5IJOggk=s64",
      "userId": "08781203421749695851"
     },
     "user_tz": -420
    },
    "id": "-_cx6UTMBgC9",
    "outputId": "31afaf7e-7d5a-423e-ad58-cf6a588c5ea5"
   },
   "outputs": [],
   "source": [
    "from sklearn.metrics import classification_report\n",
    "print(classification_report(y_test, y_pred_SVM))"
   ]
  },
  {
   "cell_type": "markdown",
   "metadata": {
    "id": "HZtep0acBqC8"
   },
   "source": [
    "## Prediksi SVM"
   ]
  },
  {
   "cell_type": "code",
   "execution_count": null,
   "metadata": {
    "id": "mDa6Klj4Brju"
   },
   "outputs": [],
   "source": [
    "def prediksi_SVM(text):\n",
    "  text = remove_tweet_special(text)\n",
    "  text = str.lower(text)\n",
    "  text = word_tokenize_wrapper(text)\n",
    "  text = stopwords_removal(text)\n",
    "  text = normalization(text)\n",
    "  text = TreebankWordDetokenizer().detokenize(text)\n",
    "  text = stemming(text)\n",
    "  text = cv.transform([text]).toarray()\n",
    "  text = tfidfconverter.transform(text).toarray()\n",
    "  text = classifierSVM.predict(text)\n",
    "  if text[0] == 0:\n",
    "    print('Sentimen Negatif')\n",
    "  else:\n",
    "    print('Sentimen Positif')\n",
    "  return text"
   ]
  },
  {
   "cell_type": "code",
   "execution_count": null,
   "metadata": {
    "colab": {
     "base_uri": "https://localhost:8080/"
    },
    "executionInfo": {
     "elapsed": 376,
     "status": "ok",
     "timestamp": 1640849590616,
     "user": {
      "displayName": "1819 Patriot Kusuma Sejati",
      "photoUrl": "https://lh3.googleusercontent.com/a-/AOh14GhcSTC58vcEo7XyxhBj_HSlXu2I9oGjs5IJOggk=s64",
      "userId": "08781203421749695851"
     },
     "user_tz": -420
    },
    "id": "WETCTxeUC79M",
    "outputId": "d049a076-cabb-4f11-c507-3e1153097c3f"
   },
   "outputs": [],
   "source": [
    "SVM = prediksi_SVM(\"Indonesia Vaksin gratis\")"
   ]
  },
  {
   "cell_type": "markdown",
   "metadata": {
    "id": "bBfs5O_cEDLU"
   },
   "source": [
    "## Naive Bayes"
   ]
  },
  {
   "cell_type": "code",
   "execution_count": null,
   "metadata": {
    "id": "gK2DdRd8EEcz"
   },
   "outputs": [],
   "source": [
    "from sklearn.naive_bayes import MultinomialNB\n",
    "import time\n",
    "\n",
    "classifierNB = MultinomialNB(fit_prior=False)\n",
    "#proses pelatihan\n",
    "t0 = time.time()\n",
    "classifierNB.fit(X_train, y_train)\n",
    "t1= time.time()\n",
    "#prediksi \n",
    "y_pred_NB= classifierNB.predict(X_test)\n",
    "t2=time.time()\n",
    "time_train=t1-t0\n",
    "time_predict=t2-t1"
   ]
  },
  {
   "cell_type": "code",
   "execution_count": null,
   "metadata": {},
   "outputs": [],
   "source": [
    "#time\n",
    "print(\"Training Time: %fs, Prediction Time: %fs\"%(time_train, time_predict))"
   ]
  },
  {
   "cell_type": "code",
   "execution_count": null,
   "metadata": {},
   "outputs": [],
   "source": [
    "pickle.dump(classifierNB,open('classifierNB.model','wb'))"
   ]
  },
  {
   "cell_type": "code",
   "execution_count": null,
   "metadata": {
    "colab": {
     "base_uri": "https://localhost:8080/"
    },
    "executionInfo": {
     "elapsed": 421,
     "status": "ok",
     "timestamp": 1640849596556,
     "user": {
      "displayName": "1819 Patriot Kusuma Sejati",
      "photoUrl": "https://lh3.googleusercontent.com/a-/AOh14GhcSTC58vcEo7XyxhBj_HSlXu2I9oGjs5IJOggk=s64",
      "userId": "08781203421749695851"
     },
     "user_tz": -420
    },
    "id": "oVhSiv9iEc1w",
    "outputId": "c9563cd2-2e7f-4165-a7ba-ecc25cd88b95"
   },
   "outputs": [],
   "source": [
    "from sklearn.metrics import confusion_matrix\n",
    "cm_NB = confusion_matrix(y_test, y_pred_NB)\n",
    "print(\"confusion matrix :\")\n",
    "print(cm_NB)\n",
    "\n",
    "from sklearn.metrics import accuracy_score\n",
    "acc = (accuracy_score(y_test, y_pred_NB))\n",
    "print(\"Accuracy : \", (acc))\n",
    "\n",
    "from sklearn.metrics import precision_score\n",
    "pre = (precision_score(y_test, y_pred_NB))\n",
    "print(\"Precision : \", (pre))\n",
    "\n",
    "from sklearn.metrics import recall_score\n",
    "rec= (recall_score(y_test, y_pred_NB))\n",
    "print(\"Recall : \", (rec))\n",
    "\n",
    "from sklearn.metrics import f1_score\n",
    "f1= (f1_score(y_test, y_pred_NB))\n",
    "print(\"Skor F1: \", (f1))"
   ]
  },
  {
   "cell_type": "code",
   "execution_count": null,
   "metadata": {
    "colab": {
     "base_uri": "https://localhost:8080/"
    },
    "executionInfo": {
     "elapsed": 335,
     "status": "ok",
     "timestamp": 1640849601865,
     "user": {
      "displayName": "1819 Patriot Kusuma Sejati",
      "photoUrl": "https://lh3.googleusercontent.com/a-/AOh14GhcSTC58vcEo7XyxhBj_HSlXu2I9oGjs5IJOggk=s64",
      "userId": "08781203421749695851"
     },
     "user_tz": -420
    },
    "id": "qsSy0jX8El6E",
    "outputId": "918925fd-207d-4867-f4c7-417e4ad73e2c"
   },
   "outputs": [],
   "source": [
    "from sklearn.metrics import classification_report\n",
    "print(classification_report(y_test, y_pred_NB))"
   ]
  },
  {
   "cell_type": "markdown",
   "metadata": {
    "id": "sFgxHTMjEu6w"
   },
   "source": [
    "##Prediksi Naive Bayes"
   ]
  },
  {
   "cell_type": "code",
   "execution_count": null,
   "metadata": {
    "id": "IZHUnctMEw0Z"
   },
   "outputs": [],
   "source": [
    "def prediksi_NB(text):\n",
    "  text = remove_tweet_special(text)\n",
    "  text = str.lower(text)\n",
    "  text = word_tokenize_wrapper(text)\n",
    "  text = stopwords_removal(text)\n",
    "  text = normalization(text)\n",
    "  text = TreebankWordDetokenizer().detokenize(text)\n",
    "  text = stemming(text)\n",
    "  text = cv.transform([text]).toarray()\n",
    "  text = tfidfconverter.transform(text).toarray()\n",
    "  text = classifierNB.predict(text)\n",
    "  if text[0] == 0:\n",
    "    print('Sentimen Negatif')\n",
    "  else:\n",
    "    print('Sentimen Positif')\n",
    "  return text"
   ]
  },
  {
   "cell_type": "code",
   "execution_count": null,
   "metadata": {
    "colab": {
     "base_uri": "https://localhost:8080/"
    },
    "executionInfo": {
     "elapsed": 4,
     "status": "ok",
     "timestamp": 1640849608366,
     "user": {
      "displayName": "1819 Patriot Kusuma Sejati",
      "photoUrl": "https://lh3.googleusercontent.com/a-/AOh14GhcSTC58vcEo7XyxhBj_HSlXu2I9oGjs5IJOggk=s64",
      "userId": "08781203421749695851"
     },
     "user_tz": -420
    },
    "id": "ajXJMvSaE8Dr",
    "outputId": "3c9bb933-3a9b-498a-cd92-5dcd3ae76df0"
   },
   "outputs": [],
   "source": [
    "Naive_Bayes = prediksi_NB(\"Indonesia Vaksin gratis\")"
   ]
  },
  {
   "cell_type": "code",
   "execution_count": null,
   "metadata": {},
   "outputs": [],
   "source": [
    "print(type(classifierNB))"
   ]
  }
 ],
 "metadata": {
  "colab": {
   "authorship_tag": "ABX9TyOk67K+C7BqzcA8O7Dpm3X5",
   "collapsed_sections": [],
   "mount_file_id": "1yTknkTGx7KZflhhepmz_vbNgEJu3Wt3H",
   "name": "Pesanan Rizky.ipynb",
   "provenance": []
  },
  "kernelspec": {
   "display_name": "Python 3 (ipykernel)",
   "language": "python",
   "name": "python3"
  },
  "language_info": {
   "codemirror_mode": {
    "name": "ipython",
    "version": 3
   },
   "file_extension": ".py",
   "mimetype": "text/x-python",
   "name": "python",
   "nbconvert_exporter": "python",
   "pygments_lexer": "ipython3",
   "version": "3.8.10"
  }
 },
 "nbformat": 4,
 "nbformat_minor": 1
}
